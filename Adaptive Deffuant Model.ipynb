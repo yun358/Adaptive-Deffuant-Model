{
 "cells": [
  {
   "cell_type": "code",
   "execution_count": 3,
   "id": "79b33ff2-4f62-4be5-8941-cc76e35a2f63",
   "metadata": {},
   "outputs": [],
   "source": [
    "# based on https://math.libretexts.org/Bookshelves/Scientific_Computing_Simulations_and_Modeling/Introduction_to_the_Modeling_and_Analysis_of_Complex_Systems_(Sayama)/16%3A_Dynamical_Networks_I__Modeling/16.02%3A_Simulating_Dynamics_on_Networks"
   ]
  },
  {
   "cell_type": "code",
   "execution_count": 2,
   "id": "ed3c72c3-7709-4803-9467-2c5c95abc4b3",
   "metadata": {},
   "outputs": [
    {
     "name": "stdout",
     "output_type": "stream",
     "text": [
      "Collecting networkx\n",
      "  Using cached networkx-3.2.1-py3-none-any.whl (1.6 MB)\n",
      "Installing collected packages: networkx\n",
      "Successfully installed networkx-3.2.1\n",
      "Note: you may need to restart the kernel to use updated packages.\n"
     ]
    },
    {
     "name": "stderr",
     "output_type": "stream",
     "text": [
      "WARNING: You are using pip version 21.2.1; however, version 25.0.1 is available.\n",
      "You should consider upgrading via the 'C:\\Users\\124109249\\Downloads\\JupyterLab-Portable-69696969\\apps\\python.exe -m pip install --upgrade pip' command.\n"
     ]
    }
   ],
   "source": [
    "pip install networkx"
   ]
  },
  {
   "cell_type": "code",
   "execution_count": 6,
   "id": "67f38a3d-148e-44c2-86b9-a50f89f411cd",
   "metadata": {},
   "outputs": [
    {
     "name": "stderr",
     "output_type": "stream",
     "text": [
      "Exception in Tkinter callback\n",
      "Traceback (most recent call last):\n",
      "  File \"C:\\Users\\124109249\\Downloads\\JupyterLab-Portable-69696969\\apps\\lib\\tkinter\\__init__.py\", line 1892, in __call__\n",
      "    return self.func(*args)\n",
      "  File \"C:\\Users\\124109249\\Downloads\\JupyterLab-Portable-69696969\\apps\\lib\\tkinter\\__init__.py\", line 814, in callit\n",
      "    func(*args)\n",
      "  File \"C:\\Users\\124109249\\Downloads\\JupyterLab-Portable-69696969\\notebooks\\pycxsimulator.py\", line 240, in stepModel\n",
      "    self.modelStepFunc()\n",
      "  File \"C:\\Users\\124109~1\\AppData\\Local\\Temp/ipykernel_7404/850682310.py\", line 52, in update\n",
      "    t+=1\n",
      "UnboundLocalError: local variable 't' referenced before assignment\n"
     ]
    }
   ],
   "source": [
    "import networkx as nx\n",
    "import random\n",
    "import matplotlib.pyplot as plt\n",
    "import pycxsimulator\n",
    "# pycxsimulator can be downloaded from https://github.com/hsayama/PyCX/blob/master/pycxsimulator.py\n",
    "\n",
    "# Parameters\n",
    "N = 30  # Number of nodes\n",
    "p = 0.5  # Probability of edge creation\n",
    "epsilon = 0.4  # Confidence threshold for interaction\n",
    "tau = 0.15 # threshold opinion difference to increase or decrease weight\n",
    "t = 0\n",
    "\n",
    "def initialize():\n",
    "    global g, pos\n",
    "    g = nx.erdos_renyi_graph(N, p)  # create erdos renyi graph with N nodes and probability of edge forming being 0.5\n",
    "    pos = nx.spring_layout(g)  # layout positions of nodes\n",
    "\n",
    "    #  initialise opinion value randomly from [0,1]\n",
    "    for node in g.nodes:\n",
    "        g.nodes[node]['opinion'] = random.random()\n",
    "        \n",
    "    # initialise weight (perhaps relationship strength) randomly from [0,1]\n",
    "    for node1, node2 in g.edges:\n",
    "        \n",
    "        g[node1][node2]['weight'] = random.random() \n",
    "\n",
    "def observe():\n",
    "    global g\n",
    "    plt.cla()\n",
    "    \n",
    "    # get node states (opinion value)\n",
    "    opinions = [g.nodes[node]['opinion'] for node in g.nodes]\n",
    "    \n",
    "    # get weight between nodes\n",
    "    edge_weights = [g[u][v]['weight'] for u, v in g.edges]\n",
    "    \n",
    "    # get minimum weight and maximum weight to perform min-max normalisation for colormapping values\n",
    "    min_weight = min(edge_weights)\n",
    "    max_weight = max(edge_weights)\n",
    "    edge_colors = [plt.cm.viridis((weight - min_weight) / (max_weight - min_weight)) for weight in edge_weights]\n",
    "    \n",
    "    # draw the network with node colours representing intensity of opinions, \n",
    "    # weight colour representing strength of connection between nodes\n",
    "    nx.draw(g, pos=pos, node_color=opinions, cmap='coolwarm', vmin=0, vmax=1, with_labels=True, width=edge_weights, edge_color=edge_colors)\n",
    "    plt.draw()\n",
    "\n",
    "def update():\n",
    "    global g\n",
    "    \n",
    "    # select a random edge connecting 2 nodes\n",
    "    if g.edges:\n",
    "        node1, node2 = random.choice(list(g.edges))\n",
    "\n",
    "        # fetch the states of the 2 nodes\n",
    "        opinion1 = g.nodes[node1]['opinion']\n",
    "        opinion2 = g.nodes[node2]['opinion']\n",
    "\n",
    "        # update changes in node states only when the absolute difference of their states is smaller than epsilon\n",
    "        if abs(opinion1 - opinion2) < epsilon:\n",
    "            new_opinion1 = opinion1 + g[node1][node2]['weight'] * (opinion2 - opinion1)\n",
    "            new_opinion2 = opinion2 + g[node1][node2]['weight'] * (opinion1 - opinion2)\n",
    "\n",
    "            # update the new states of the nodes\n",
    "            g.nodes[node1]['opinion'] = new_opinion1\n",
    "            g.nodes[node2]['opinion'] = new_opinion2\n",
    "            \n",
    "            # update weight between the two nodes\n",
    "            # For example, use the opinion difference to adjust the weight\n",
    "            weight_change = abs(opinion1 - opinion2)  \n",
    "            if weight_change <= tau:\n",
    "                g[node1][node2]['weight'] = max(0, g[node1][node2]['weight'] + weight_change)  # ensure positive weight\n",
    "            elif weight_change > tau:\n",
    "                g[node1][node2]['weight'] = max(0, g[node1][node2]['weight'] - weight_change)\n",
    "\n",
    "# Start the simulation\n",
    "pycxsimulator.GUI().start(func=[initialize, observe, update])"
   ]
  },
  {
   "cell_type": "code",
   "execution_count": null,
   "id": "fa2763a4-474f-44df-8b1b-1f1e4f582ec7",
   "metadata": {},
   "outputs": [],
   "source": []
  }
 ],
 "metadata": {
  "kernelspec": {
   "display_name": "Python 3 (ipykernel)",
   "language": "python",
   "name": "python3"
  },
  "language_info": {
   "codemirror_mode": {
    "name": "ipython",
    "version": 3
   },
   "file_extension": ".py",
   "mimetype": "text/x-python",
   "name": "python",
   "nbconvert_exporter": "python",
   "pygments_lexer": "ipython3",
   "version": "3.9.6"
  }
 },
 "nbformat": 4,
 "nbformat_minor": 5
}
